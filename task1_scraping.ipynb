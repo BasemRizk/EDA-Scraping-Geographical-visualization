{
  "cells": [
    {
      "cell_type": "code",
      "execution_count": null,
      "id": "e2ef968e",
      "metadata": {
        "id": "e2ef968e"
      },
      "outputs": [],
      "source": [
        "import pandas as pd\n",
        "import json\n",
        "import warnings\n",
        "warnings.simplefilter('ignore')"
      ]
    },
    {
      "cell_type": "code",
      "execution_count": null,
      "id": "923044b2",
      "metadata": {
        "id": "923044b2"
      },
      "outputs": [],
      "source": [
        "# read the Excel file into a pandas dataframe\n",
        "df = pd.read_excel('Hotels.xlsx')"
      ]
    },
    {
      "cell_type": "markdown",
      "id": "61227c87",
      "metadata": {
        "id": "61227c87"
      },
      "source": [
        "## Scrape the Country name from booking.com"
      ]
    },
    {
      "cell_type": "code",
      "execution_count": null,
      "id": "a036d392",
      "metadata": {
        "id": "a036d392"
      },
      "outputs": [],
      "source": [
        "#Country Scraping\n",
        "from bs4 import BeautifulSoup\n",
        "import requests\n",
        "import urllib.parse\n",
        "import time\n",
        "    # set the search query\n",
        "def extract_country(query):\n",
        "    try:\n",
        "        # encode the query for use in the Google search URL\n",
        "        query_url_encoded = urllib.parse.quote_plus(query)\n",
        "\n",
        "        # make a request to the Google search results page\n",
        "        url = f\"https://www.google.com/search?q={query_url_encoded}\"\n",
        "        response = requests.get(url)\n",
        "        # parse the HTML content of the search results page using BeautifulSoup\n",
        "        soup = BeautifulSoup(response.content, 'html.parser')\n",
        "        key_word='booking'\n",
        "        # find the first search result link\n",
        "        search_results = soup.find_all('a')\n",
        "        for link in search_results:\n",
        "            href = link.get('href')\n",
        "            if href and 'booking' in href:\n",
        "                # extract the URL from the href attribute\n",
        "                url = href.split('=')[1]\n",
        "                url = urllib.parse.unquote_plus(url.split('&')[0])\n",
        "                break\n",
        "        response = requests.get(url)\n",
        "        # parse the HTML content of the search results page using BeautifulSoup\n",
        "        soup = BeautifulSoup(response.content, 'html.parser')\n",
        "        address = soup.find('script', {'type': 'application/ld+json'})\n",
        "        if (address==None):\n",
        "            country='Not Found'\n",
        "            return country\n",
        "        address = address.text\n",
        "        address_dict = json.loads(address)['address']\n",
        "        # extract the country from the address object\n",
        "        country = address_dict['addressCountry']\n",
        "        return country\n",
        "    except Exception:\n",
        "        country='Not Found'\n",
        "        return country\n"
      ]
    },
    {
      "cell_type": "code",
      "execution_count": null,
      "id": "e82a6745",
      "metadata": {
        "id": "e82a6745"
      },
      "outputs": [],
      "source": [
        "#extract the hotel names only into new df\n",
        "df2=df['Hotel Name'].to_frame()"
      ]
    },
    {
      "cell_type": "code",
      "execution_count": null,
      "id": "e358863b",
      "metadata": {
        "id": "e358863b"
      },
      "outputs": [],
      "source": [
        "# define the range of numbers\n",
        "start = 0\n",
        "stop = 2500\n",
        "\n",
        "# define the batch size\n",
        "batch_size = 16\n",
        "\n",
        "# define an empty list to store the batches\n",
        "batches = []\n",
        "\n",
        "# iterate over the batches\n",
        "for i in range(start, stop, batch_size):\n",
        "    # get the batch of numbers\n",
        "    batch = range(i, min(i + batch_size, stop))\n",
        "\n",
        "    # append the batch to the list\n",
        "    batches.append(list(batch))"
      ]
    },
    {
      "cell_type": "code",
      "execution_count": null,
      "id": "ab49d1e3",
      "metadata": {
        "id": "ab49d1e3"
      },
      "outputs": [],
      "source": [
        "\n",
        "# split the DataFrame into batches of size 32\n",
        "batches = np.array_split(df2, len(df2) // 32 + 1)\n",
        "\n",
        "# create a list of DataFrames\n",
        "df_list = [batch.reset_index(drop=True) for batch in batches]"
      ]
    },
    {
      "cell_type": "code",
      "execution_count": null,
      "id": "ba254f6c",
      "metadata": {
        "id": "ba254f6c",
        "outputId": "d0bcc8eb-d94c-4a20-d405-c9b193afd0a6"
      },
      "outputs": [
        {
          "data": {
            "text/plain": [
              "79"
            ]
          },
          "execution_count": 91,
          "metadata": {},
          "output_type": "execute_result"
        }
      ],
      "source": [
        "#split the df into 79 batches each one has 32\n",
        "len(df_list)"
      ]
    },
    {
      "cell_type": "code",
      "execution_count": null,
      "id": "9b1dd965",
      "metadata": {
        "id": "9b1dd965",
        "outputId": "3c30c8e9-82be-4e45-9e96-d9f25e30b9a3"
      },
      "outputs": [
        {
          "data": {
            "text/plain": [
              "'USA'"
            ]
          },
          "execution_count": 117,
          "metadata": {},
          "output_type": "execute_result"
        }
      ],
      "source": [
        "#try the function\n",
        "extract_country(df['Hotel Name'][8])"
      ]
    },
    {
      "cell_type": "code",
      "execution_count": null,
      "id": "61b1a20a",
      "metadata": {
        "collapsed": true,
        "id": "61b1a20a",
        "outputId": "b84f2d33-aa20-494f-e48b-0918a5816a03"
      },
      "outputs": [
        {
          "ename": "IndexError",
          "evalue": "list index out of range",
          "output_type": "error",
          "traceback": [
            "\u001b[0;31m---------------------------------------------------------------------------\u001b[0m",
            "\u001b[0;31mIndexError\u001b[0m                                Traceback (most recent call last)",
            "Cell \u001b[0;32mIn[130], line 6\u001b[0m\n\u001b[1;32m      4\u001b[0m \u001b[38;5;66;03m# apply the extract_country() function to the 'Hotel Name' column using multithreading and store the result in a new column 'Country'\u001b[39;00m\n\u001b[1;32m      5\u001b[0m \u001b[38;5;28;01mfor\u001b[39;00m i \u001b[38;5;129;01min\u001b[39;00m \u001b[38;5;28mrange\u001b[39m(\u001b[38;5;241m70\u001b[39m,\u001b[38;5;241m80\u001b[39m):\n\u001b[0;32m----> 6\u001b[0m     df_list[i][\u001b[38;5;124m'\u001b[39m\u001b[38;5;124mCountry\u001b[39m\u001b[38;5;124m'\u001b[39m] \u001b[38;5;241m=\u001b[39m \u001b[38;5;28mlist\u001b[39m(executor\u001b[38;5;241m.\u001b[39mmap(extract_country, \u001b[43mdf_list\u001b[49m\u001b[43m[\u001b[49m\u001b[43mi\u001b[49m\u001b[43m]\u001b[49m[\u001b[38;5;124m'\u001b[39m\u001b[38;5;124mHotel Name\u001b[39m\u001b[38;5;124m'\u001b[39m]))\n\u001b[1;32m      7\u001b[0m     time\u001b[38;5;241m.\u001b[39msleep(\u001b[38;5;241m2\u001b[39m)\n",
            "\u001b[0;31mIndexError\u001b[0m: list index out of range"
          ]
        }
      ],
      "source": [
        "#apply threading and make delay to avoid been blocked\n",
        "from concurrent.futures import ThreadPoolExecutor\n",
        "executor = ThreadPoolExecutor(max_workers=8)\n",
        "import time\n",
        "# apply the extract_country() function to the 'Hotel Name' column using multithreading and store the result in a new column 'Country'\n",
        "for i in range(len(df_list)):\n",
        "    df_list[i]['Country'] = list(executor.map(extract_country, df_list[i]['Hotel Name']))\n",
        "    time.sleep(10)\n",
        ""
      ]
    },
    {
      "cell_type": "code",
      "execution_count": null,
      "id": "8e4ded6b",
      "metadata": {
        "id": "8e4ded6b"
      },
      "outputs": [],
      "source": [
        "#concatenate our batches into one df again\n",
        "c_df = pd.concat(df_list[:], ignore_index=True)\n"
      ]
    },
    {
      "cell_type": "code",
      "execution_count": null,
      "id": "6241902b",
      "metadata": {
        "id": "6241902b"
      },
      "outputs": [],
      "source": [
        "#merge the country to our original data df\n",
        "final_df = pd.merge(df,c_df , on='Hotel Name')\n"
      ]
    },
    {
      "cell_type": "code",
      "execution_count": null,
      "id": "60aa8afa",
      "metadata": {
        "id": "60aa8afa",
        "outputId": "49106634-e63a-41db-d49e-985f716cd23b"
      },
      "outputs": [
        {
          "data": {
            "text/html": [
              "<div>\n",
              "<style scoped>\n",
              "    .dataframe tbody tr th:only-of-type {\n",
              "        vertical-align: middle;\n",
              "    }\n",
              "\n",
              "    .dataframe tbody tr th {\n",
              "        vertical-align: top;\n",
              "    }\n",
              "\n",
              "    .dataframe thead th {\n",
              "        text-align: right;\n",
              "    }\n",
              "</style>\n",
              "<table border=\"1\" class=\"dataframe\">\n",
              "  <thead>\n",
              "    <tr style=\"text-align: right;\">\n",
              "      <th></th>\n",
              "      <th>Code</th>\n",
              "      <th>Hotel Name</th>\n",
              "      <th>Roomnights</th>\n",
              "      <th>Sale</th>\n",
              "      <th>Cost</th>\n",
              "      <th>Date</th>\n",
              "      <th>Country</th>\n",
              "    </tr>\n",
              "  </thead>\n",
              "  <tbody>\n",
              "    <tr>\n",
              "      <th>0</th>\n",
              "      <td>CODE|87851</td>\n",
              "      <td>Best Western Premier Al Ahsa Grand Hotel &amp; Suites</td>\n",
              "      <td>57</td>\n",
              "      <td>1140</td>\n",
              "      <td>1140</td>\n",
              "      <td>01, 2019</td>\n",
              "      <td>Saudi Arabia</td>\n",
              "    </tr>\n",
              "    <tr>\n",
              "      <th>1</th>\n",
              "      <td>CODE|87816</td>\n",
              "      <td>Best Western Premier Airporthotel Fontane Berlin</td>\n",
              "      <td>1935</td>\n",
              "      <td>50310</td>\n",
              "      <td>38700</td>\n",
              "      <td>08, 2019</td>\n",
              "      <td>Germany</td>\n",
              "    </tr>\n",
              "    <tr>\n",
              "      <th>2</th>\n",
              "      <td>CODE|87781</td>\n",
              "      <td>Best Western Premier Agung Resort Ubud</td>\n",
              "      <td>1897</td>\n",
              "      <td>37940</td>\n",
              "      <td>34146</td>\n",
              "      <td>01, 2019</td>\n",
              "      <td>Indonesia</td>\n",
              "    </tr>\n",
              "    <tr>\n",
              "      <th>3</th>\n",
              "      <td>CODE|87746</td>\n",
              "      <td>Best Western Posada Freeman</td>\n",
              "      <td>1294</td>\n",
              "      <td>38820</td>\n",
              "      <td>25880</td>\n",
              "      <td>06, 2019</td>\n",
              "      <td>Mexico</td>\n",
              "    </tr>\n",
              "    <tr>\n",
              "      <th>4</th>\n",
              "      <td>CODE|87711</td>\n",
              "      <td>Best Western Pony Soldier Inn &amp; Suites</td>\n",
              "      <td>828</td>\n",
              "      <td>22356</td>\n",
              "      <td>13248</td>\n",
              "      <td>12, 2019</td>\n",
              "      <td>USA</td>\n",
              "    </tr>\n",
              "  </tbody>\n",
              "</table>\n",
              "</div>"
            ],
            "text/plain": [
              "         Code                                         Hotel Name  Roomnights  \\\n",
              "0  CODE|87851  Best Western Premier Al Ahsa Grand Hotel & Suites          57   \n",
              "1  CODE|87816   Best Western Premier Airporthotel Fontane Berlin        1935   \n",
              "2  CODE|87781             Best Western Premier Agung Resort Ubud        1897   \n",
              "3  CODE|87746                        Best Western Posada Freeman        1294   \n",
              "4  CODE|87711             Best Western Pony Soldier Inn & Suites         828   \n",
              "\n",
              "    Sale   Cost      Date       Country  \n",
              "0   1140   1140  01, 2019  Saudi Arabia  \n",
              "1  50310  38700  08, 2019       Germany  \n",
              "2  37940  34146  01, 2019     Indonesia  \n",
              "3  38820  25880  06, 2019        Mexico  \n",
              "4  22356  13248  12, 2019           USA  "
            ]
          },
          "execution_count": 141,
          "metadata": {},
          "output_type": "execute_result"
        }
      ],
      "source": [
        "final_df.head()"
      ]
    },
    {
      "cell_type": "code",
      "execution_count": null,
      "id": "2db46d59",
      "metadata": {
        "id": "2db46d59"
      },
      "outputs": [],
      "source": [
        "#save the data after scraping into csv file\n",
        "final_df.to_csv('final.csv', index=False)"
      ]
    },
    {
      "cell_type": "code",
      "execution_count": null,
      "id": "8eda6783",
      "metadata": {
        "id": "8eda6783"
      },
      "outputs": [],
      "source": []
    }
  ],
  "metadata": {
    "kernelspec": {
      "display_name": "Python 3 (ipykernel)",
      "language": "python",
      "name": "python3"
    },
    "language_info": {
      "codemirror_mode": {
        "name": "ipython",
        "version": 3
      },
      "file_extension": ".py",
      "mimetype": "text/x-python",
      "name": "python",
      "nbconvert_exporter": "python",
      "pygments_lexer": "ipython3",
      "version": "3.10.9"
    },
    "colab": {
      "provenance": []
    }
  },
  "nbformat": 4,
  "nbformat_minor": 5
}