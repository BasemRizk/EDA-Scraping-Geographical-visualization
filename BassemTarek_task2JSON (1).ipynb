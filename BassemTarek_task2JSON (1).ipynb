{
 "cells": [
  {
   "cell_type": "code",
   "execution_count": 1,
   "id": "e98182ab",
   "metadata": {},
   "outputs": [],
   "source": [
    "#import needed libraries\n",
    "import itertools\n",
    "import pandas as pd\n",
    "import json\n",
    "import warnings\n",
    "warnings.simplefilter('ignore')"
   ]
  },
  {
   "cell_type": "code",
   "execution_count": 2,
   "id": "aa17c789",
   "metadata": {},
   "outputs": [],
   "source": [
    "#load the json file\n",
    "with open('roomlist.json') as f:\n",
    "   data = json.load(f)"
   ]
  },
  {
   "cell_type": "code",
   "execution_count": 3,
   "id": "949a0a14",
   "metadata": {},
   "outputs": [],
   "source": [
    "data=data['value'][0]"
   ]
  },
  {
   "cell_type": "code",
   "execution_count": 4,
   "id": "397b71da",
   "metadata": {},
   "outputs": [],
   "source": [
    "#Compress the address to summarize the json file\n",
    "data['Address']=data['Address']['StreetAddress']+','+data['Address']['City']+' '+data['Address']['PostalCode']+','+data['Address']['Country']"
   ]
  },
  {
   "cell_type": "code",
   "execution_count": 5,
   "id": "e73a171d",
   "metadata": {},
   "outputs": [],
   "source": [
    "#delete the french description , last rennovation data\n",
    "del data['Description_fr']\n",
    "del data['LastRenovationDate']"
   ]
  },
  {
   "cell_type": "code",
   "execution_count": 6,
   "id": "3b8ed166",
   "metadata": {},
   "outputs": [],
   "source": [
    "#Create DataFrame\n",
    "df = pd.DataFrame(columns=['Type', 'BaseRate', 'BedOptions','SleepsCount','SmokingAllowed','Tags','Description'])"
   ]
  },
  {
   "cell_type": "code",
   "execution_count": 7,
   "id": "aeb5c220",
   "metadata": {},
   "outputs": [],
   "source": [
    "#delete the french description in rooms and convert the json file data for rooms to df\n",
    "for room in data['Rooms']:\n",
    "    del room['Description_fr']\n",
    "    df.loc[len(df)] = [room['Type'], room['BaseRate'], room['BedOptions'],room['SleepsCount'],room['SmokingAllowed'],room['Tags'],room['Description']]\n"
   ]
  },
  {
   "cell_type": "code",
   "execution_count": 8,
   "id": "59037a9b",
   "metadata": {},
   "outputs": [],
   "source": [
    "#sort depending on the baserate\n",
    "df=df.sort_values('BaseRate',ascending=False)\n",
    "df=df.reset_index(drop=True)"
   ]
  },
  {
   "cell_type": "code",
   "execution_count": 9,
   "id": "6f994f34",
   "metadata": {},
   "outputs": [],
   "source": [
    "#Encoding the Smoking Allowed Values\n",
    "df['SmokingAllowed'] = df['SmokingAllowed'].map({True: 1, False: 0})"
   ]
  },
  {
   "cell_type": "code",
   "execution_count": 10,
   "id": "2ce96542",
   "metadata": {},
   "outputs": [],
   "source": [
    "#remove the duplicated values in each list of tags for each row\n",
    "for i in range(len(df['Tags'])):\n",
    "   df['Tags'][i] = list(set( df['Tags'][i]))"
   ]
  },
  {
   "cell_type": "code",
   "execution_count": 11,
   "id": "2764b75c",
   "metadata": {},
   "outputs": [],
   "source": [
    "# define a function to extract view from the description\n",
    "def extract_view(s):\n",
    "    start_index = s.index('(') + 1  # move the start index one character to the right to skip the opening parenthesis\n",
    "    end_index = s.index(')')  # find the index of the closing parenthesis\n",
    "    return s[start_index:end_index]  # extract the text between the parentheses\n",
    "\n",
    "# apply the function to the 'Room_Type' column\n",
    "df['Description'] = df['Description'].apply(extract_view)\n",
    "df.rename(columns={'Description': 'View'}, inplace=True)\n"
   ]
  },
  {
   "cell_type": "code",
   "execution_count": 12,
   "id": "c03b2307",
   "metadata": {
    "scrolled": true
   },
   "outputs": [
    {
     "name": "stdout",
     "output_type": "stream",
     "text": [
      "count     13.000000\n",
      "mean     159.528462\n",
      "std       74.393789\n",
      "min       55.990000\n",
      "25%       96.990000\n",
      "50%      146.990000\n",
      "75%      234.990000\n",
      "max      262.990000\n",
      "Name: BaseRate, dtype: float64\n"
     ]
    }
   ],
   "source": [
    "#descriptive statistics on the room level in the data\n",
    "print(df['BaseRate'].describe())"
   ]
  },
  {
   "cell_type": "code",
   "execution_count": 13,
   "id": "b084c99d",
   "metadata": {},
   "outputs": [
    {
     "data": {
      "text/plain": [
       "Type           View           \n",
       "Budget Room    Cityside            96.99\n",
       "               Mountain View       80.99\n",
       "               Waterfront View     87.99\n",
       "Deluxe Room    City View          148.99\n",
       "Standard Room  Amenities          110.99\n",
       "               City View           55.99\n",
       "               Waterfront View    121.99\n",
       "Suite          Mountain View      239.49\n",
       "               Waterfront View    262.99\n",
       "Name: BaseRate, dtype: float64"
      ]
     },
     "execution_count": 13,
     "metadata": {},
     "output_type": "execute_result"
    }
   ],
   "source": [
    "#Mean value for each room type with each view\n",
    "df.groupby(['Type','View'])['BaseRate'].mean()"
   ]
  },
  {
   "cell_type": "code",
   "execution_count": 14,
   "id": "cdc97e21",
   "metadata": {},
   "outputs": [],
   "source": [
    "#explode tags to show the effect of each single tag on the baserate\n",
    "df_exploded= df.copy()\n",
    "df_exploded=df_exploded.explode('Tags')"
   ]
  },
  {
   "cell_type": "code",
   "execution_count": 15,
   "id": "9916ac3e",
   "metadata": {
    "scrolled": true
   },
   "outputs": [
    {
     "data": {
      "text/plain": [
       "Tags\n",
       "jacuzzi tub         68.49\n",
       "suite              103.49\n",
       "bathroom shower    132.74\n",
       "coffee maker       151.99\n",
       "vcr/dvd            158.59\n",
       "tv                 161.49\n",
       "Room Tags          177.49\n",
       "Name: BaseRate, dtype: float64"
      ]
     },
     "execution_count": 15,
     "metadata": {},
     "output_type": "execute_result"
    }
   ],
   "source": [
    "#the effect of each single tag on the baserate\n",
    "df_exploded.groupby(['Tags'])['BaseRate'].mean().sort_values()"
   ]
  },
  {
   "cell_type": "code",
   "execution_count": 16,
   "id": "d7bf3ce1",
   "metadata": {},
   "outputs": [
    {
     "data": {
      "text/plain": [
       "Tags             Type         \n",
       "Room Tags        Standard Room    110.99\n",
       "                 Suite            243.99\n",
       "bathroom shower  Deluxe Room      148.99\n",
       "                 Standard Room    116.49\n",
       "coffee maker     Deluxe Room      150.99\n",
       "                 Standard Room     55.99\n",
       "                 Suite            248.99\n",
       "jacuzzi tub      Budget Room       80.99\n",
       "                 Standard Room     55.99\n",
       "suite            Deluxe Room      150.99\n",
       "                 Standard Room     55.99\n",
       "tv               Budget Room       87.99\n",
       "                 Suite            234.99\n",
       "vcr/dvd          Budget Room       88.99\n",
       "                 Standard Room    121.99\n",
       "                 Suite            246.49\n",
       "Name: BaseRate, dtype: float64"
      ]
     },
     "execution_count": 16,
     "metadata": {},
     "output_type": "execute_result"
    }
   ],
   "source": [
    "#the effect of each single tag and room type on the baserate\n",
    "df_exploded.groupby(['Tags','Type'])['BaseRate'].mean()"
   ]
  },
  {
   "cell_type": "code",
   "execution_count": 17,
   "id": "9405058b",
   "metadata": {},
   "outputs": [
    {
     "data": {
      "text/plain": [
       "Type\n",
       "Budget Room       96.99\n",
       "Standard Room    121.99\n",
       "Deluxe Room      150.99\n",
       "Suite            262.99\n",
       "Name: BaseRate, dtype: float64"
      ]
     },
     "execution_count": 17,
     "metadata": {},
     "output_type": "execute_result"
    }
   ],
   "source": [
    "#max base rate for each room type\n",
    "df.groupby(['Type'])['BaseRate'].max().sort_values()"
   ]
  },
  {
   "cell_type": "code",
   "execution_count": 18,
   "id": "8ca62d3b",
   "metadata": {},
   "outputs": [
    {
     "data": {
      "text/plain": [
       "Type\n",
       "Standard Room     55.99\n",
       "Budget Room       80.99\n",
       "Deluxe Room      146.99\n",
       "Suite            229.99\n",
       "Name: BaseRate, dtype: float64"
      ]
     },
     "execution_count": 18,
     "metadata": {},
     "output_type": "execute_result"
    }
   ],
   "source": [
    "#min base rate for each room type\n",
    "df.groupby(['Type'])['BaseRate'].min().sort_values()"
   ]
  },
  {
   "cell_type": "code",
   "execution_count": 19,
   "id": "f8a62918",
   "metadata": {},
   "outputs": [
    {
     "data": {
      "text/plain": [
       "Type\n",
       "Budget Room       88.656667\n",
       "Standard Room     96.323333\n",
       "Deluxe Room      148.990000\n",
       "Suite            244.190000\n",
       "Name: BaseRate, dtype: float64"
      ]
     },
     "execution_count": 19,
     "metadata": {},
     "output_type": "execute_result"
    }
   ],
   "source": [
    "#mean base rate for each room type\n",
    "df.groupby(['Type'])['BaseRate'].mean().sort_values()"
   ]
  },
  {
   "cell_type": "code",
   "execution_count": 20,
   "id": "2844a3c8",
   "metadata": {},
   "outputs": [
    {
     "data": {
      "text/plain": [
       "BedOptions\n",
       "2 Queen Beds     229.99\n",
       "1 Queen Bed      243.99\n",
       "2 Double Beds    248.99\n",
       "1 King Bed       262.99\n",
       "Name: BaseRate, dtype: float64"
      ]
     },
     "execution_count": 20,
     "metadata": {},
     "output_type": "execute_result"
    }
   ],
   "source": [
    "#max base rate for each bed option\n",
    "df.groupby(['BedOptions'])['BaseRate'].max().sort_values()"
   ]
  },
  {
   "cell_type": "code",
   "execution_count": 21,
   "id": "061d5cd5",
   "metadata": {},
   "outputs": [
    {
     "data": {
      "text/plain": [
       "BedOptions\n",
       "2 Double Beds     55.99\n",
       "1 King Bed        80.99\n",
       "1 Queen Bed       96.99\n",
       "2 Queen Beds     229.99\n",
       "Name: BaseRate, dtype: float64"
      ]
     },
     "execution_count": 21,
     "metadata": {},
     "output_type": "execute_result"
    }
   ],
   "source": [
    "#min base rate for each bed option\n",
    "df.groupby(['BedOptions'])['BaseRate'].min().sort_values()"
   ]
  },
  {
   "cell_type": "code",
   "execution_count": 22,
   "id": "392dd1c7",
   "metadata": {},
   "outputs": [
    {
     "data": {
      "text/plain": [
       "BedOptions\n",
       "1 King Bed       149.561429\n",
       "2 Double Beds    151.990000\n",
       "1 Queen Bed      170.490000\n",
       "2 Queen Beds     229.990000\n",
       "Name: BaseRate, dtype: float64"
      ]
     },
     "execution_count": 22,
     "metadata": {},
     "output_type": "execute_result"
    }
   ],
   "source": [
    "#mean base rate for each bed option\n",
    "\n",
    "df.groupby(['BedOptions'])['BaseRate'].mean().sort_values()"
   ]
  },
  {
   "cell_type": "code",
   "execution_count": 23,
   "id": "cbd15087",
   "metadata": {},
   "outputs": [
    {
     "data": {
      "text/plain": [
       "SmokingAllowed\n",
       "1    136.823333\n",
       "0    178.990000\n",
       "Name: BaseRate, dtype: float64"
      ]
     },
     "execution_count": 23,
     "metadata": {},
     "output_type": "execute_result"
    }
   ],
   "source": [
    "#mean base rate for each smoking option(1: smoking allowed,0:smoking not allowed)\n",
    "df.groupby(['SmokingAllowed'])['BaseRate'].mean().sort_values()"
   ]
  },
  {
   "cell_type": "code",
   "execution_count": 24,
   "id": "10014e6b",
   "metadata": {},
   "outputs": [],
   "source": [
    "#Create all possible combinations for reserving 6 people\n",
    "\n",
    "# create a list of the room indices\n",
    "room_indices = list(df.index)\n",
    "\n",
    "# create a list of all possible combinations of 3 room indices for 6 people\n",
    "room_combinations = []\n",
    "for combination in itertools.combinations(room_indices, 3):\n",
    "    if sum(df.loc[list(combination)]['SleepsCount']) == 6:\n",
    "        room_combinations.append(combination)\n",
    "for combination in itertools.combinations(room_indices, 2):\n",
    "    if sum(df.loc[list(combination)]['SleepsCount']) == 6:\n",
    "        room_combinations.append(combination)"
   ]
  },
  {
   "cell_type": "code",
   "execution_count": 25,
   "id": "2fc88faf",
   "metadata": {},
   "outputs": [],
   "source": [
    "#Select the combinations that have at least one smoking allowed room\n",
    "smoking=[]\n",
    "for x in room_combinations:\n",
    "    for i in (x) :\n",
    "        if (df['SmokingAllowed'][i]==1):\n",
    "            s=1\n",
    "            break;\n",
    "        else :\n",
    "            s=0\n",
    "    smoking.append(s)"
   ]
  },
  {
   "cell_type": "code",
   "execution_count": 26,
   "id": "9fb1df65",
   "metadata": {},
   "outputs": [],
   "source": [
    "#Select the combinations that have at least one City view room\n",
    "view=[]\n",
    "for x in room_combinations:\n",
    "    for i in (x) :\n",
    "        if (df['View'][i]=='City View'):\n",
    "            v=1\n",
    "            break;\n",
    "        else :\n",
    "            v=0\n",
    "    view.append(v)"
   ]
  },
  {
   "cell_type": "code",
   "execution_count": 27,
   "id": "af6e2932",
   "metadata": {},
   "outputs": [],
   "source": [
    "#Select the combinations that have at least one Suite Type room\n",
    "\n",
    "suite=[]\n",
    "for x in room_combinations:\n",
    "    for i in (x) :\n",
    "        if (df['Type'][i]=='Suite'):\n",
    "            r=1\n",
    "            break;\n",
    "        else :\n",
    "            r=0\n",
    "    suite.append(r)"
   ]
  },
  {
   "cell_type": "code",
   "execution_count": 28,
   "id": "bb8fdc57",
   "metadata": {},
   "outputs": [],
   "source": [
    "#Make and operation to select the combinations that have the smoking and city view conditions\n",
    "smoking_view = [a and b for a, b in zip(smoking, view)]"
   ]
  },
  {
   "cell_type": "code",
   "execution_count": 29,
   "id": "95d1a33a",
   "metadata": {},
   "outputs": [],
   "source": [
    "#Make and operation with suite condition to select the combinations that apply all the three conditions\n",
    "smoking_view_suite = [a and b for a, b in zip(smoking_view, suite)]"
   ]
  },
  {
   "cell_type": "code",
   "execution_count": 30,
   "id": "06262d84",
   "metadata": {},
   "outputs": [],
   "source": [
    "#final_combinations list is the list that contain the constrained combinations\n",
    "final_combinations=[]\n",
    "for i in range(len(room_combinations)):\n",
    "    if smoking_view_suite[i] == 1:\n",
    "        final_combinations.append(room_combinations[i])"
   ]
  },
  {
   "cell_type": "code",
   "execution_count": 31,
   "id": "5aafc8f6",
   "metadata": {},
   "outputs": [],
   "source": [
    "#calculate the total cost for the 10 nights on the constrained combinations\n",
    "total_cost=[]\n",
    "for x in final_combinations:\n",
    "    cost=0\n",
    "    for i in x:\n",
    "        cost=cost+(df['BaseRate'][i])\n",
    "    cost=cost*10\n",
    "    total_cost.append(cost)"
   ]
  },
  {
   "cell_type": "code",
   "execution_count": 32,
   "id": "d29c678d",
   "metadata": {},
   "outputs": [],
   "source": [
    "#select the minimum cost and its index\n",
    "cheapest_cost=min(total_cost)\n",
    "cheapest_index = total_cost.index(cheapest_cost)"
   ]
  },
  {
   "cell_type": "code",
   "execution_count": 33,
   "id": "f41e0690",
   "metadata": {},
   "outputs": [],
   "source": [
    "#Create a list for the cheapest combination\n",
    "cheapest_list=[]\n",
    "for i in final_combinations[cheapest_index]:\n",
    "    cheapest_list.append([df['Type'][i],df['SleepsCount'][i],df['SmokingAllowed'][i],df['View'][i],df['BaseRate'][i]])"
   ]
  },
  {
   "cell_type": "code",
   "execution_count": 34,
   "id": "ccb32dbc",
   "metadata": {},
   "outputs": [
    {
     "data": {
      "text/html": [
       "<div>\n",
       "<style scoped>\n",
       "    .dataframe tbody tr th:only-of-type {\n",
       "        vertical-align: middle;\n",
       "    }\n",
       "\n",
       "    .dataframe tbody tr th {\n",
       "        vertical-align: top;\n",
       "    }\n",
       "\n",
       "    .dataframe thead th {\n",
       "        text-align: right;\n",
       "    }\n",
       "</style>\n",
       "<table border=\"1\" class=\"dataframe\">\n",
       "  <thead>\n",
       "    <tr style=\"text-align: right;\">\n",
       "      <th></th>\n",
       "      <th>Type</th>\n",
       "      <th>People</th>\n",
       "      <th>SmokingAllowed</th>\n",
       "      <th>View</th>\n",
       "      <th>Base Rate</th>\n",
       "    </tr>\n",
       "  </thead>\n",
       "  <tbody>\n",
       "    <tr>\n",
       "      <th>0</th>\n",
       "      <td>Suite</td>\n",
       "      <td>4</td>\n",
       "      <td>1</td>\n",
       "      <td>Mountain View</td>\n",
       "      <td>229.99</td>\n",
       "    </tr>\n",
       "    <tr>\n",
       "      <th>1</th>\n",
       "      <td>Standard Room</td>\n",
       "      <td>2</td>\n",
       "      <td>1</td>\n",
       "      <td>City View</td>\n",
       "      <td>55.99</td>\n",
       "    </tr>\n",
       "  </tbody>\n",
       "</table>\n",
       "</div>"
      ],
      "text/plain": [
       "            Type  People  SmokingAllowed           View  Base Rate\n",
       "0          Suite       4               1  Mountain View     229.99\n",
       "1  Standard Room       2               1      City View      55.99"
      ]
     },
     "execution_count": 34,
     "metadata": {},
     "output_type": "execute_result"
    }
   ],
   "source": [
    "#Convert it to df to be easy to understand\n",
    "cheapest_df=pd.DataFrame(cheapest_list, columns=['Type','People','SmokingAllowed','View','Base Rate'])\n",
    "cheapest_df"
   ]
  },
  {
   "cell_type": "code",
   "execution_count": 35,
   "id": "ece47de8",
   "metadata": {
    "scrolled": true
   },
   "outputs": [
    {
     "name": "stdout",
     "output_type": "stream",
     "text": [
      "The Cheapest Cost for 6 people in 10 nights is 2859.8\n",
      "-----------------------------Details-----------------------------\n",
      "            Type  People  SmokingAllowed           View  Base Rate\n",
      "0          Suite       4               1  Mountain View     229.99\n",
      "1  Standard Room       2               1      City View      55.99\n"
     ]
    }
   ],
   "source": [
    "#Print the details of the cheapest combination\n",
    "print('The Cheapest Cost for 6 people in 10 nights is',cheapest_cost)\n",
    "print('-----------------------------Details-----------------------------')\n",
    "print(cheapest_df)"
   ]
  },
  {
   "cell_type": "code",
   "execution_count": null,
   "id": "fe9304ff",
   "metadata": {},
   "outputs": [],
   "source": []
  }
 ],
 "metadata": {
  "kernelspec": {
   "display_name": "Python 3 (ipykernel)",
   "language": "python",
   "name": "python3"
  },
  "language_info": {
   "codemirror_mode": {
    "name": "ipython",
    "version": 3
   },
   "file_extension": ".py",
   "mimetype": "text/x-python",
   "name": "python",
   "nbconvert_exporter": "python",
   "pygments_lexer": "ipython3",
   "version": "3.10.9"
  }
 },
 "nbformat": 4,
 "nbformat_minor": 5
}
